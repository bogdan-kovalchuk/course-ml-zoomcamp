{
  "cells": [
    {
      "cell_type": "markdown",
      "source": [
        "#**Intro Homework**"
      ],
      "metadata": {
        "id": "dKrhanpc18yH"
      },
      "id": "dKrhanpc18yH"
    },
    {
      "cell_type": "code",
      "execution_count": 4,
      "id": "0554ee30-e8e0-4a87-922a-b0eb5bbcf0ca",
      "metadata": {
        "id": "0554ee30-e8e0-4a87-922a-b0eb5bbcf0ca"
      },
      "outputs": [],
      "source": [
        "import pandas as pd\n",
        "import numpy as np"
      ]
    },
    {
      "cell_type": "markdown",
      "source": [
        "###**<font color='red'>Q1. Pandas version</font>**\n",
        "What's the version of Pandas that you installed?"
      ],
      "metadata": {
        "id": "rQjNee992hjb"
      },
      "id": "rQjNee992hjb"
    },
    {
      "cell_type": "code",
      "source": [
        "pd.__version__"
      ],
      "metadata": {
        "id": "iX5easdm0c87",
        "outputId": "fc20e392-43ab-42fc-859f-fd2ffbc273d7",
        "colab": {
          "base_uri": "https://localhost:8080/",
          "height": 36
        }
      },
      "id": "iX5easdm0c87",
      "execution_count": 5,
      "outputs": [
        {
          "output_type": "execute_result",
          "data": {
            "text/plain": [
              "'2.2.2'"
            ],
            "application/vnd.google.colaboratory.intrinsic+json": {
              "type": "string"
            }
          },
          "metadata": {},
          "execution_count": 5
        }
      ]
    },
    {
      "cell_type": "markdown",
      "source": [],
      "metadata": {
        "id": "nfY5ehpN07_g"
      },
      "id": "nfY5ehpN07_g"
    }
  ],
  "metadata": {
    "kernelspec": {
      "display_name": "Python 3 (ipykernel)",
      "language": "python",
      "name": "python3"
    },
    "language_info": {
      "codemirror_mode": {
        "name": "ipython",
        "version": 3
      },
      "file_extension": ".py",
      "mimetype": "text/x-python",
      "name": "python",
      "nbconvert_exporter": "python",
      "pygments_lexer": "ipython3",
      "version": "3.11.0"
    },
    "colab": {
      "provenance": []
    }
  },
  "nbformat": 4,
  "nbformat_minor": 5
}