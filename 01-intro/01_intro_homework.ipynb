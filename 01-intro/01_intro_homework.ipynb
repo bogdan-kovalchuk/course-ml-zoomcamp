{
  "cells": [
    {
      "cell_type": "markdown",
      "source": [
        "#**Intro Homework**"
      ],
      "metadata": {
        "id": "dKrhanpc18yH"
      },
      "id": "dKrhanpc18yH"
    },
    {
      "cell_type": "code",
      "execution_count": 1,
      "id": "0554ee30-e8e0-4a87-922a-b0eb5bbcf0ca",
      "metadata": {
        "id": "0554ee30-e8e0-4a87-922a-b0eb5bbcf0ca"
      },
      "outputs": [],
      "source": [
        "import pandas as pd\n",
        "import numpy as np"
      ]
    },
    {
      "cell_type": "markdown",
      "source": [
        "###**<font color='red'>Q1. Pandas version</font>**\n",
        "What's the version of Pandas that you installed?"
      ],
      "metadata": {
        "id": "rQjNee992hjb"
      },
      "id": "rQjNee992hjb"
    },
    {
      "cell_type": "code",
      "source": [
        "pd.__version__"
      ],
      "metadata": {
        "colab": {
          "base_uri": "https://localhost:8080/",
          "height": 36
        },
        "id": "iX5easdm0c87",
        "outputId": "ffe32241-6aab-47f9-ea80-8cde87cde29b"
      },
      "id": "iX5easdm0c87",
      "execution_count": 2,
      "outputs": [
        {
          "output_type": "execute_result",
          "data": {
            "text/plain": [
              "'2.2.2'"
            ],
            "application/vnd.google.colaboratory.intrinsic+json": {
              "type": "string"
            }
          },
          "metadata": {},
          "execution_count": 2
        }
      ]
    },
    {
      "cell_type": "markdown",
      "source": [
        "###**<font color='red'>Q2. Records count</font>**\n",
        "\n",
        "How many records are in the dataset?\n",
        "\n",
        "- 4704\n",
        "- 8704\n",
        "- <font color='green'>9704</font> ✅\n",
        "- 17704"
      ],
      "metadata": {
        "id": "nfY5ehpN07_g"
      },
      "id": "nfY5ehpN07_g"
    },
    {
      "cell_type": "code",
      "source": [
        "url = \"https://raw.githubusercontent.com/alexeygrigorev/datasets/master/car_fuel_efficiency.csv\"\n",
        "df = pd.read_csv(url)\n",
        "\n",
        "df.shape[0]"
      ],
      "metadata": {
        "id": "VMgysE0c4dV1",
        "outputId": "6e922c1b-33c9-440c-c082-783b50beb520",
        "colab": {
          "base_uri": "https://localhost:8080/"
        }
      },
      "id": "VMgysE0c4dV1",
      "execution_count": 3,
      "outputs": [
        {
          "output_type": "execute_result",
          "data": {
            "text/plain": [
              "9704"
            ]
          },
          "metadata": {},
          "execution_count": 3
        }
      ]
    }
  ],
  "metadata": {
    "kernelspec": {
      "display_name": "Python 3 (ipykernel)",
      "language": "python",
      "name": "python3"
    },
    "language_info": {
      "codemirror_mode": {
        "name": "ipython",
        "version": 3
      },
      "file_extension": ".py",
      "mimetype": "text/x-python",
      "name": "python",
      "nbconvert_exporter": "python",
      "pygments_lexer": "ipython3",
      "version": "3.11.0"
    },
    "colab": {
      "provenance": []
    }
  },
  "nbformat": 4,
  "nbformat_minor": 5
}