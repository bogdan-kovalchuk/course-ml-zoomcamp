{
  "cells": [
    {
      "cell_type": "markdown",
      "source": [
        "#**Regression homework**\n"
      ],
      "metadata": {
        "id": "jifpGmiOaSnd"
      },
      "id": "jifpGmiOaSnd"
    },
    {
      "cell_type": "code",
      "execution_count": null,
      "id": "0a04ebc7-df00-4ca9-8b06-078e8edc556a",
      "metadata": {
        "id": "0a04ebc7-df00-4ca9-8b06-078e8edc556a"
      },
      "outputs": [],
      "source": [
        "import numpy as np\n",
        "import pandas as pd"
      ]
    },
    {
      "cell_type": "code",
      "execution_count": null,
      "id": "6e885491-a6de-46ae-a833-22e2fb107125",
      "metadata": {
        "colab": {
          "base_uri": "https://localhost:8080/",
          "height": 363
        },
        "id": "6e885491-a6de-46ae-a833-22e2fb107125",
        "outputId": "6aa047ac-a221-4bc0-fd6e-054951610d9a"
      },
      "outputs": [
        {
          "output_type": "execute_result",
          "data": {
            "text/plain": [
              "   engine_displacement  horsepower  vehicle_weight  model_year  \\\n",
              "0                  170       159.0     3413.433759        2003   \n",
              "1                  130        97.0     3149.664934        2007   \n",
              "2                  170        78.0     3079.038997        2018   \n",
              "3                  220         NaN     2542.392402        2009   \n",
              "4                  210       140.0     3460.870990        2009   \n",
              "5                  190         NaN     2484.883986        2008   \n",
              "6                  240       127.0     3006.542287        2012   \n",
              "7                  150       239.0     3638.657780        2020   \n",
              "8                  250       174.0     2714.219310        2016   \n",
              "9                  150       123.0     3509.036569        2005   \n",
              "\n",
              "   fuel_efficiency_mpg  \n",
              "0            13.231729  \n",
              "1            13.688217  \n",
              "2            14.246341  \n",
              "3            16.912736  \n",
              "4            12.488369  \n",
              "5            17.271818  \n",
              "6            13.210412  \n",
              "7            12.848884  \n",
              "8            16.823554  \n",
              "9            12.298355  "
            ],
            "text/html": [
              "\n",
              "  <div id=\"df-608397bb-f9ba-4ca1-b1a5-02141c6b0257\" class=\"colab-df-container\">\n",
              "    <div>\n",
              "<style scoped>\n",
              "    .dataframe tbody tr th:only-of-type {\n",
              "        vertical-align: middle;\n",
              "    }\n",
              "\n",
              "    .dataframe tbody tr th {\n",
              "        vertical-align: top;\n",
              "    }\n",
              "\n",
              "    .dataframe thead th {\n",
              "        text-align: right;\n",
              "    }\n",
              "</style>\n",
              "<table border=\"1\" class=\"dataframe\">\n",
              "  <thead>\n",
              "    <tr style=\"text-align: right;\">\n",
              "      <th></th>\n",
              "      <th>engine_displacement</th>\n",
              "      <th>horsepower</th>\n",
              "      <th>vehicle_weight</th>\n",
              "      <th>model_year</th>\n",
              "      <th>fuel_efficiency_mpg</th>\n",
              "    </tr>\n",
              "  </thead>\n",
              "  <tbody>\n",
              "    <tr>\n",
              "      <th>0</th>\n",
              "      <td>170</td>\n",
              "      <td>159.0</td>\n",
              "      <td>3413.433759</td>\n",
              "      <td>2003</td>\n",
              "      <td>13.231729</td>\n",
              "    </tr>\n",
              "    <tr>\n",
              "      <th>1</th>\n",
              "      <td>130</td>\n",
              "      <td>97.0</td>\n",
              "      <td>3149.664934</td>\n",
              "      <td>2007</td>\n",
              "      <td>13.688217</td>\n",
              "    </tr>\n",
              "    <tr>\n",
              "      <th>2</th>\n",
              "      <td>170</td>\n",
              "      <td>78.0</td>\n",
              "      <td>3079.038997</td>\n",
              "      <td>2018</td>\n",
              "      <td>14.246341</td>\n",
              "    </tr>\n",
              "    <tr>\n",
              "      <th>3</th>\n",
              "      <td>220</td>\n",
              "      <td>NaN</td>\n",
              "      <td>2542.392402</td>\n",
              "      <td>2009</td>\n",
              "      <td>16.912736</td>\n",
              "    </tr>\n",
              "    <tr>\n",
              "      <th>4</th>\n",
              "      <td>210</td>\n",
              "      <td>140.0</td>\n",
              "      <td>3460.870990</td>\n",
              "      <td>2009</td>\n",
              "      <td>12.488369</td>\n",
              "    </tr>\n",
              "    <tr>\n",
              "      <th>5</th>\n",
              "      <td>190</td>\n",
              "      <td>NaN</td>\n",
              "      <td>2484.883986</td>\n",
              "      <td>2008</td>\n",
              "      <td>17.271818</td>\n",
              "    </tr>\n",
              "    <tr>\n",
              "      <th>6</th>\n",
              "      <td>240</td>\n",
              "      <td>127.0</td>\n",
              "      <td>3006.542287</td>\n",
              "      <td>2012</td>\n",
              "      <td>13.210412</td>\n",
              "    </tr>\n",
              "    <tr>\n",
              "      <th>7</th>\n",
              "      <td>150</td>\n",
              "      <td>239.0</td>\n",
              "      <td>3638.657780</td>\n",
              "      <td>2020</td>\n",
              "      <td>12.848884</td>\n",
              "    </tr>\n",
              "    <tr>\n",
              "      <th>8</th>\n",
              "      <td>250</td>\n",
              "      <td>174.0</td>\n",
              "      <td>2714.219310</td>\n",
              "      <td>2016</td>\n",
              "      <td>16.823554</td>\n",
              "    </tr>\n",
              "    <tr>\n",
              "      <th>9</th>\n",
              "      <td>150</td>\n",
              "      <td>123.0</td>\n",
              "      <td>3509.036569</td>\n",
              "      <td>2005</td>\n",
              "      <td>12.298355</td>\n",
              "    </tr>\n",
              "  </tbody>\n",
              "</table>\n",
              "</div>\n",
              "    <div class=\"colab-df-buttons\">\n",
              "\n",
              "  <div class=\"colab-df-container\">\n",
              "    <button class=\"colab-df-convert\" onclick=\"convertToInteractive('df-608397bb-f9ba-4ca1-b1a5-02141c6b0257')\"\n",
              "            title=\"Convert this dataframe to an interactive table.\"\n",
              "            style=\"display:none;\">\n",
              "\n",
              "  <svg xmlns=\"http://www.w3.org/2000/svg\" height=\"24px\" viewBox=\"0 -960 960 960\">\n",
              "    <path d=\"M120-120v-720h720v720H120Zm60-500h600v-160H180v160Zm220 220h160v-160H400v160Zm0 220h160v-160H400v160ZM180-400h160v-160H180v160Zm440 0h160v-160H620v160ZM180-180h160v-160H180v160Zm440 0h160v-160H620v160Z\"/>\n",
              "  </svg>\n",
              "    </button>\n",
              "\n",
              "  <style>\n",
              "    .colab-df-container {\n",
              "      display:flex;\n",
              "      gap: 12px;\n",
              "    }\n",
              "\n",
              "    .colab-df-convert {\n",
              "      background-color: #E8F0FE;\n",
              "      border: none;\n",
              "      border-radius: 50%;\n",
              "      cursor: pointer;\n",
              "      display: none;\n",
              "      fill: #1967D2;\n",
              "      height: 32px;\n",
              "      padding: 0 0 0 0;\n",
              "      width: 32px;\n",
              "    }\n",
              "\n",
              "    .colab-df-convert:hover {\n",
              "      background-color: #E2EBFA;\n",
              "      box-shadow: 0px 1px 2px rgba(60, 64, 67, 0.3), 0px 1px 3px 1px rgba(60, 64, 67, 0.15);\n",
              "      fill: #174EA6;\n",
              "    }\n",
              "\n",
              "    .colab-df-buttons div {\n",
              "      margin-bottom: 4px;\n",
              "    }\n",
              "\n",
              "    [theme=dark] .colab-df-convert {\n",
              "      background-color: #3B4455;\n",
              "      fill: #D2E3FC;\n",
              "    }\n",
              "\n",
              "    [theme=dark] .colab-df-convert:hover {\n",
              "      background-color: #434B5C;\n",
              "      box-shadow: 0px 1px 3px 1px rgba(0, 0, 0, 0.15);\n",
              "      filter: drop-shadow(0px 1px 2px rgba(0, 0, 0, 0.3));\n",
              "      fill: #FFFFFF;\n",
              "    }\n",
              "  </style>\n",
              "\n",
              "    <script>\n",
              "      const buttonEl =\n",
              "        document.querySelector('#df-608397bb-f9ba-4ca1-b1a5-02141c6b0257 button.colab-df-convert');\n",
              "      buttonEl.style.display =\n",
              "        google.colab.kernel.accessAllowed ? 'block' : 'none';\n",
              "\n",
              "      async function convertToInteractive(key) {\n",
              "        const element = document.querySelector('#df-608397bb-f9ba-4ca1-b1a5-02141c6b0257');\n",
              "        const dataTable =\n",
              "          await google.colab.kernel.invokeFunction('convertToInteractive',\n",
              "                                                    [key], {});\n",
              "        if (!dataTable) return;\n",
              "\n",
              "        const docLinkHtml = 'Like what you see? Visit the ' +\n",
              "          '<a target=\"_blank\" href=https://colab.research.google.com/notebooks/data_table.ipynb>data table notebook</a>'\n",
              "          + ' to learn more about interactive tables.';\n",
              "        element.innerHTML = '';\n",
              "        dataTable['output_type'] = 'display_data';\n",
              "        await google.colab.output.renderOutput(dataTable, element);\n",
              "        const docLink = document.createElement('div');\n",
              "        docLink.innerHTML = docLinkHtml;\n",
              "        element.appendChild(docLink);\n",
              "      }\n",
              "    </script>\n",
              "  </div>\n",
              "\n",
              "\n",
              "    <div id=\"df-8c0ae2cc-db95-438a-9d94-e4323e7e9378\">\n",
              "      <button class=\"colab-df-quickchart\" onclick=\"quickchart('df-8c0ae2cc-db95-438a-9d94-e4323e7e9378')\"\n",
              "                title=\"Suggest charts\"\n",
              "                style=\"display:none;\">\n",
              "\n",
              "<svg xmlns=\"http://www.w3.org/2000/svg\" height=\"24px\"viewBox=\"0 0 24 24\"\n",
              "     width=\"24px\">\n",
              "    <g>\n",
              "        <path d=\"M19 3H5c-1.1 0-2 .9-2 2v14c0 1.1.9 2 2 2h14c1.1 0 2-.9 2-2V5c0-1.1-.9-2-2-2zM9 17H7v-7h2v7zm4 0h-2V7h2v10zm4 0h-2v-4h2v4z\"/>\n",
              "    </g>\n",
              "</svg>\n",
              "      </button>\n",
              "\n",
              "<style>\n",
              "  .colab-df-quickchart {\n",
              "      --bg-color: #E8F0FE;\n",
              "      --fill-color: #1967D2;\n",
              "      --hover-bg-color: #E2EBFA;\n",
              "      --hover-fill-color: #174EA6;\n",
              "      --disabled-fill-color: #AAA;\n",
              "      --disabled-bg-color: #DDD;\n",
              "  }\n",
              "\n",
              "  [theme=dark] .colab-df-quickchart {\n",
              "      --bg-color: #3B4455;\n",
              "      --fill-color: #D2E3FC;\n",
              "      --hover-bg-color: #434B5C;\n",
              "      --hover-fill-color: #FFFFFF;\n",
              "      --disabled-bg-color: #3B4455;\n",
              "      --disabled-fill-color: #666;\n",
              "  }\n",
              "\n",
              "  .colab-df-quickchart {\n",
              "    background-color: var(--bg-color);\n",
              "    border: none;\n",
              "    border-radius: 50%;\n",
              "    cursor: pointer;\n",
              "    display: none;\n",
              "    fill: var(--fill-color);\n",
              "    height: 32px;\n",
              "    padding: 0;\n",
              "    width: 32px;\n",
              "  }\n",
              "\n",
              "  .colab-df-quickchart:hover {\n",
              "    background-color: var(--hover-bg-color);\n",
              "    box-shadow: 0 1px 2px rgba(60, 64, 67, 0.3), 0 1px 3px 1px rgba(60, 64, 67, 0.15);\n",
              "    fill: var(--button-hover-fill-color);\n",
              "  }\n",
              "\n",
              "  .colab-df-quickchart-complete:disabled,\n",
              "  .colab-df-quickchart-complete:disabled:hover {\n",
              "    background-color: var(--disabled-bg-color);\n",
              "    fill: var(--disabled-fill-color);\n",
              "    box-shadow: none;\n",
              "  }\n",
              "\n",
              "  .colab-df-spinner {\n",
              "    border: 2px solid var(--fill-color);\n",
              "    border-color: transparent;\n",
              "    border-bottom-color: var(--fill-color);\n",
              "    animation:\n",
              "      spin 1s steps(1) infinite;\n",
              "  }\n",
              "\n",
              "  @keyframes spin {\n",
              "    0% {\n",
              "      border-color: transparent;\n",
              "      border-bottom-color: var(--fill-color);\n",
              "      border-left-color: var(--fill-color);\n",
              "    }\n",
              "    20% {\n",
              "      border-color: transparent;\n",
              "      border-left-color: var(--fill-color);\n",
              "      border-top-color: var(--fill-color);\n",
              "    }\n",
              "    30% {\n",
              "      border-color: transparent;\n",
              "      border-left-color: var(--fill-color);\n",
              "      border-top-color: var(--fill-color);\n",
              "      border-right-color: var(--fill-color);\n",
              "    }\n",
              "    40% {\n",
              "      border-color: transparent;\n",
              "      border-right-color: var(--fill-color);\n",
              "      border-top-color: var(--fill-color);\n",
              "    }\n",
              "    60% {\n",
              "      border-color: transparent;\n",
              "      border-right-color: var(--fill-color);\n",
              "    }\n",
              "    80% {\n",
              "      border-color: transparent;\n",
              "      border-right-color: var(--fill-color);\n",
              "      border-bottom-color: var(--fill-color);\n",
              "    }\n",
              "    90% {\n",
              "      border-color: transparent;\n",
              "      border-bottom-color: var(--fill-color);\n",
              "    }\n",
              "  }\n",
              "</style>\n",
              "\n",
              "      <script>\n",
              "        async function quickchart(key) {\n",
              "          const quickchartButtonEl =\n",
              "            document.querySelector('#' + key + ' button');\n",
              "          quickchartButtonEl.disabled = true;  // To prevent multiple clicks.\n",
              "          quickchartButtonEl.classList.add('colab-df-spinner');\n",
              "          try {\n",
              "            const charts = await google.colab.kernel.invokeFunction(\n",
              "                'suggestCharts', [key], {});\n",
              "          } catch (error) {\n",
              "            console.error('Error during call to suggestCharts:', error);\n",
              "          }\n",
              "          quickchartButtonEl.classList.remove('colab-df-spinner');\n",
              "          quickchartButtonEl.classList.add('colab-df-quickchart-complete');\n",
              "        }\n",
              "        (() => {\n",
              "          let quickchartButtonEl =\n",
              "            document.querySelector('#df-8c0ae2cc-db95-438a-9d94-e4323e7e9378 button');\n",
              "          quickchartButtonEl.style.display =\n",
              "            google.colab.kernel.accessAllowed ? 'block' : 'none';\n",
              "        })();\n",
              "      </script>\n",
              "    </div>\n",
              "    </div>\n",
              "  </div>\n"
            ],
            "application/vnd.google.colaboratory.intrinsic+json": {
              "type": "dataframe",
              "variable_name": "df",
              "summary": "{\n  \"name\": \"df\",\n  \"rows\": 9704,\n  \"fields\": [\n    {\n      \"column\": \"engine_displacement\",\n      \"properties\": {\n        \"dtype\": \"number\",\n        \"std\": 49,\n        \"min\": 10,\n        \"max\": 380,\n        \"num_unique_values\": 36,\n        \"samples\": [\n          30,\n          260,\n          90\n        ],\n        \"semantic_type\": \"\",\n        \"description\": \"\"\n      }\n    },\n    {\n      \"column\": \"horsepower\",\n      \"properties\": {\n        \"dtype\": \"number\",\n        \"std\": 29.879555200339446,\n        \"min\": 37.0,\n        \"max\": 271.0,\n        \"num_unique_values\": 192,\n        \"samples\": [\n          128.0,\n          82.0,\n          167.0\n        ],\n        \"semantic_type\": \"\",\n        \"description\": \"\"\n      }\n    },\n    {\n      \"column\": \"vehicle_weight\",\n      \"properties\": {\n        \"dtype\": \"number\",\n        \"std\": 497.8948600311838,\n        \"min\": 952.6817606436496,\n        \"max\": 4739.077089392099,\n        \"num_unique_values\": 9704,\n        \"samples\": [\n          2535.8875912388694,\n          2741.1704843893167,\n          2471.8802372627765\n        ],\n        \"semantic_type\": \"\",\n        \"description\": \"\"\n      }\n    },\n    {\n      \"column\": \"model_year\",\n      \"properties\": {\n        \"dtype\": \"number\",\n        \"std\": 6,\n        \"min\": 2000,\n        \"max\": 2023,\n        \"num_unique_values\": 24,\n        \"samples\": [\n          2005,\n          2002,\n          2003\n        ],\n        \"semantic_type\": \"\",\n        \"description\": \"\"\n      }\n    },\n    {\n      \"column\": \"fuel_efficiency_mpg\",\n      \"properties\": {\n        \"dtype\": \"number\",\n        \"std\": 2.5564677028974288,\n        \"min\": 6.200970533392815,\n        \"max\": 25.96722204888372,\n        \"num_unique_values\": 9704,\n        \"samples\": [\n          16.642943419221385,\n          16.298377150953442,\n          18.59182197290521\n        ],\n        \"semantic_type\": \"\",\n        \"description\": \"\"\n      }\n    }\n  ]\n}"
            }
          },
          "metadata": {},
          "execution_count": 10
        }
      ],
      "source": [
        "url = \"https://raw.githubusercontent.com/alexeygrigorev/datasets/master/car_fuel_efficiency.csv\"\n",
        "df = pd.read_csv(url)\n",
        "df = df[['engine_displacement', 'horsepower', 'vehicle_weight', 'model_year', 'fuel_efficiency_mpg']]\n",
        "\n",
        "df.head(10)"
      ]
    },
    {
      "cell_type": "code",
      "source": [
        "df.info()"
      ],
      "metadata": {
        "id": "vpXlWoqifE_R"
      },
      "id": "vpXlWoqifE_R",
      "execution_count": null,
      "outputs": []
    },
    {
      "cell_type": "code",
      "source": [
        "df.describe(include='all', percentiles=[.01,.05,.25,.5,.75,.95,.99]).T"
      ],
      "metadata": {
        "id": "Vqdz9B29fIBU"
      },
      "id": "Vqdz9B29fIBU",
      "execution_count": null,
      "outputs": []
    },
    {
      "cell_type": "markdown",
      "source": [
        "###**<font color='red'>Question 1 </font>**\n",
        "\n",
        "There's one column with missing values. What is it?\n",
        "\n",
        "- 'engine_displacement'\n",
        "- <font color='green'>'horsepower'</font> ✅\n",
        "- 'vehicle_weight'\n",
        "- 'model_year'"
      ],
      "metadata": {
        "id": "sq-GfQADiEAF"
      },
      "id": "sq-GfQADiEAF"
    },
    {
      "cell_type": "code",
      "source": [
        "df.columns[df.isna().any()].to_list()"
      ],
      "metadata": {
        "colab": {
          "base_uri": "https://localhost:8080/"
        },
        "id": "J2CNEW7M9KVR",
        "outputId": "ec607d28-090e-4f63-e418-a9cc1dc97c6d"
      },
      "id": "J2CNEW7M9KVR",
      "execution_count": null,
      "outputs": [
        {
          "output_type": "execute_result",
          "data": {
            "text/plain": [
              "['horsepower']"
            ]
          },
          "metadata": {},
          "execution_count": 11
        }
      ]
    },
    {
      "cell_type": "markdown",
      "source": [
        "###**<font color='red'>Question 2</font>**\n",
        "\n",
        "What's the median (50% percentile) for variable 'horsepower'?\n",
        "\n",
        "- 49\n",
        "- 99\n",
        "- <font color='green'>149</font> ✅\n",
        "- 199\n",
        "\n"
      ],
      "metadata": {
        "id": "17ejbrr4WlLr"
      },
      "id": "17ejbrr4WlLr"
    },
    {
      "cell_type": "code",
      "source": [
        "df['horsepower'].median()"
      ],
      "metadata": {
        "id": "XaSA9nN_WpPR"
      },
      "id": "XaSA9nN_WpPR",
      "execution_count": null,
      "outputs": []
    },
    {
      "cell_type": "markdown",
      "source": [
        "**Prepare and split the dataset**\n",
        "- Shuffle the dataset (the filtered one you created above), use seed 42.\n",
        "- Split your data in train/val/test sets, with 60%/20%/20% distribution.\n",
        "\n",
        "Use the same code as in the lectures"
      ],
      "metadata": {
        "id": "vq1QfBzUWp0q"
      },
      "id": "vq1QfBzUWp0q"
    },
    {
      "cell_type": "code",
      "source": [
        "def split_dataset(df, seed=42, val_ratio=0.2, test_ratio=0.2):\n",
        "    n = len(df)\n",
        "    n_val = int(n * val_ratio)\n",
        "    n_test = int(n * test_ratio)\n",
        "    n_train = n - n_val - n_test\n",
        "\n",
        "    idx = np.arange(n)\n",
        "    np.random.seed(seed)\n",
        "    np.random.shuffle(idx)\n",
        "\n",
        "    df_train = df.iloc[idx[:n_train]].reset_index(drop=True)\n",
        "    df_val = df.iloc[idx[n_train : n_train + n_val]].reset_index(drop=True)\n",
        "    df_test = df.iloc[idx[n_train + n_val :]].reset_index(drop=True)\n",
        "\n",
        "    y_train = df_train.fuel_efficiency_mpg.values\n",
        "    y_val = df_val.fuel_efficiency_mpg.values\n",
        "    y_test = df_test.fuel_efficiency_mpg.values\n",
        "\n",
        "    return df_train, df_val, df_test, y_train, y_val, y_test"
      ],
      "metadata": {
        "id": "zOsHOMwbljjT"
      },
      "id": "zOsHOMwbljjT",
      "execution_count": null,
      "outputs": []
    },
    {
      "cell_type": "markdown",
      "source": [
        "###**<font color='red'>Question 3</font>**\n",
        "- We need to deal with missing values for the column from Q1.\n",
        "- We have two options: fill it with 0 or with the mean of this variable.\n",
        "- Try both options. For each, train a linear regression model without regularization using the code from the lessons.\n",
        "- For computing the mean, use the training only!\n",
        "- Use the validation dataset to evaluate the models and compare the RMSE of each option.\n",
        "- Round the RMSE scores to 2 decimal digits using round(score, 2)\n",
        "\n",
        "Which option gives better RMSE?\n",
        "\n",
        "Options:\n",
        "- With 0\n",
        "- <font color='green'>With mean</font> ✅\n",
        "- Both are equally good"
      ],
      "metadata": {
        "id": "ZvxkMJplmLRX"
      },
      "id": "ZvxkMJplmLRX"
    },
    {
      "cell_type": "code",
      "source": [
        "df_train, df_val, df_test, y_train, y_val, y_test = split_dataset(df)"
      ],
      "metadata": {
        "id": "gN5xNkOgJocf"
      },
      "id": "gN5xNkOgJocf",
      "execution_count": null,
      "outputs": []
    },
    {
      "cell_type": "code",
      "source": [
        "def train_linear_regression(X, y):\n",
        "    ones = np.ones(X.shape[0])\n",
        "    X = np.column_stack([ones, X])\n",
        "\n",
        "    XTX = X.T.dot(X)\n",
        "    XTX_inv = np.linalg.inv(XTX)\n",
        "    w_full = XTX_inv.dot(X.T).dot(y)\n",
        "\n",
        "    return w_full[0], w_full[1:]"
      ],
      "metadata": {
        "id": "HbI3DpStnKYk"
      },
      "id": "HbI3DpStnKYk",
      "execution_count": null,
      "outputs": []
    },
    {
      "cell_type": "code",
      "source": [
        "def rmse(y, y_pred):\n",
        "    error = y_pred - y\n",
        "    mse = (error ** 2).mean()\n",
        "    return np.sqrt(mse)"
      ],
      "metadata": {
        "id": "BTrm0Sc1Ieqz"
      },
      "id": "BTrm0Sc1Ieqz",
      "execution_count": null,
      "outputs": []
    },
    {
      "cell_type": "code",
      "source": [
        "base = ['engine_displacement', 'horsepower', 'vehicle_weight', 'model_year']"
      ],
      "metadata": {
        "id": "XOsxAV2XeApj"
      },
      "id": "XOsxAV2XeApj",
      "execution_count": null,
      "outputs": []
    },
    {
      "cell_type": "code",
      "source": [
        "def X_fillna_zeros(df):\n",
        "  df_num = df[base].copy()\n",
        "  df_num = df_num.fillna(0)\n",
        "  X = df_num.values\n",
        "  return X"
      ],
      "metadata": {
        "id": "Y1QDKg6OnyEG"
      },
      "id": "Y1QDKg6OnyEG",
      "execution_count": null,
      "outputs": []
    },
    {
      "cell_type": "code",
      "source": [
        "def X_fillna_mean(df):\n",
        "  df_num = df[base].copy()\n",
        "  mean = df_train['horsepower'].mean()\n",
        "  df_num['horsepower'] = df_num['horsepower'].fillna(mean)\n",
        "  X = df_num.values\n",
        "  return X"
      ],
      "metadata": {
        "id": "NwtdN_IUIx12"
      },
      "id": "NwtdN_IUIx12",
      "execution_count": null,
      "outputs": []
    },
    {
      "cell_type": "code",
      "source": [
        "# Fillna with zeros\n",
        "X_train = X_fillna_zeros(df_train)\n",
        "w_0, w = train_linear_regression(X_train, y_train)\n",
        "\n",
        "X_val = X_fillna_zeros(df_val)\n",
        "y_pred = w_0 + X_val.dot(w)\n",
        "np.round(rmse(y_val, y_pred), 2)"
      ],
      "metadata": {
        "id": "11SK4b9ApH3b"
      },
      "id": "11SK4b9ApH3b",
      "execution_count": null,
      "outputs": []
    },
    {
      "cell_type": "code",
      "source": [
        "# Fillna with mean\n",
        "X_train = X_fillna_mean(df_train)\n",
        "w_0, w = train_linear_regression(X_train, y_train)\n",
        "\n",
        "X_val = X_fillna_mean(df_val)\n",
        "y_pred = w_0 + X_val.dot(w)\n",
        "np.round(rmse(y_val, y_pred), 2)"
      ],
      "metadata": {
        "id": "Lu1iEXP0mn2M"
      },
      "id": "Lu1iEXP0mn2M",
      "execution_count": null,
      "outputs": []
    },
    {
      "cell_type": "markdown",
      "source": [
        "###**<font color='red'>Question 4</font>**\n",
        "- Now let's train a regularized linear regression.\n",
        "- For this question, fill the NAs with 0.\n",
        "- Try different values of r from this list: [0, 0.01, 0.1, 1, 5, 10, 100].\n",
        "- Use RMSE to evaluate the model on the validation dataset.\n",
        "- Round the RMSE scores to 2 decimal digits.\n",
        "- Which r gives the best RMSE?\n",
        "- If there are multiple options, select the smallest r.\n",
        "\n",
        "Options:\n",
        "- 0\n",
        "- <font color='green'>0.01</font> ✅\n",
        "- 1\n",
        "- 10\n",
        "- 100\n"
      ],
      "metadata": {
        "id": "_FOoZiAgaoT6"
      },
      "id": "_FOoZiAgaoT6"
    },
    {
      "cell_type": "code",
      "source": [
        "def train_linear_regression_reg(X, y, r=0.0):\n",
        "    ones = np.ones(X.shape[0])\n",
        "    X = np.column_stack([ones, X])\n",
        "\n",
        "    XTX = X.T.dot(X)\n",
        "    reg = r * np.eye(XTX.shape[0])\n",
        "    XTX = XTX + reg\n",
        "\n",
        "    XTX_inv = np.linalg.inv(XTX)\n",
        "    w = XTX_inv.dot(X.T).dot(y)\n",
        "\n",
        "    return w[0], w[1:]"
      ],
      "metadata": {
        "id": "O2FWEHbabBRX"
      },
      "id": "O2FWEHbabBRX",
      "execution_count": null,
      "outputs": []
    },
    {
      "cell_type": "code",
      "source": [
        "X_train = X_fillna_zeros(df_train)\n",
        "X_val = X_fillna_zeros(df_val)\n",
        "\n",
        "for r in [0, 0.01, 0.1, 1, 5, 10, 100]:\n",
        "    w_0, w = train_linear_regression_reg(X_train, y_train, r=r)\n",
        "    y_pred = w_0 + X_val.dot(w)\n",
        "    print('%6s' %r, np.round(rmse(y_val, y_pred), 4))"
      ],
      "metadata": {
        "id": "EFOnGa5Ug-Z3"
      },
      "id": "EFOnGa5Ug-Z3",
      "execution_count": null,
      "outputs": []
    },
    {
      "cell_type": "markdown",
      "source": [
        "###**<font color='red'>Question 5</font>**\n",
        "- We used seed 42 for splitting the data. Let's find out how selecting the seed influences our score.\n",
        "- Try different seed values: [0, 1, 2, 3, 4, 5, 6, 7, 8, 9].\n",
        "- For each seed, do the train/validation/test split with 60%/20%/20% distribution.\n",
        "- Fill the missing values with 0 and train a model without regularization.\n",
        "- For each seed, evaluate the model on the validation dataset and collect the RMSE scores.\n",
        "- What's the standard deviation of all the scores? To compute the standard deviation, use np.std.\n",
        "- Round the result to 3 decimal digits (round(std, 3))\n",
        "\n",
        "What's the value of std?\n",
        "\n",
        "- 0.001\n",
        "- <font color='green'>0.006</font> ✅\n",
        "- 0.060\n",
        "- 0.600\n",
        "\n",
        "\n",
        "*Note: Standard deviation shows how different the values are. If it's low, then all values are approximately the same. If it's high, the values are different. If standard deviation of scores is low, then our model is stable.*"
      ],
      "metadata": {
        "id": "MGp-2St__vR3"
      },
      "id": "MGp-2St__vR3"
    },
    {
      "cell_type": "code",
      "source": [
        "rmse_scores = []\n",
        "for seed in [0, 1, 2, 3, 4, 5, 6, 7, 8, 9]:\n",
        "  df_train, df_val, _, y_train, y_val, _ = split_dataset(df, seed=seed)\n",
        "\n",
        "  X_train = X_fillna_zeros(df_train)\n",
        "  w_0, w = train_linear_regression(X_train, y_train)\n",
        "\n",
        "  X_val = X_fillna_zeros(df_val)\n",
        "  y_pred = w_0 + X_val.dot(w)\n",
        "\n",
        "  rmse_score = rmse(y_val, y_pred)\n",
        "  rmse_scores.append(rmse_score)\n",
        "\n",
        "np.round(np.std(rmse_scores), 10)"
      ],
      "metadata": {
        "colab": {
          "base_uri": "https://localhost:8080/"
        },
        "id": "oeH2k7B8AJQj",
        "outputId": "564c4a35-6884-4b31-d2fb-605a0dde4802"
      },
      "id": "oeH2k7B8AJQj",
      "execution_count": null,
      "outputs": [
        {
          "output_type": "execute_result",
          "data": {
            "text/plain": [
              "np.float64(0.0069894464)"
            ]
          },
          "metadata": {},
          "execution_count": 14
        }
      ]
    }
  ],
  "metadata": {
    "kernelspec": {
      "display_name": "Python 3 (ipykernel)",
      "language": "python",
      "name": "python3"
    },
    "language_info": {
      "codemirror_mode": {
        "name": "ipython",
        "version": 3
      },
      "file_extension": ".py",
      "mimetype": "text/x-python",
      "name": "python",
      "nbconvert_exporter": "python",
      "pygments_lexer": "ipython3",
      "version": "3.12.3"
    },
    "colab": {
      "provenance": [],
      "toc_visible": true
    }
  },
  "nbformat": 4,
  "nbformat_minor": 5
}