{
  "cells": [
    {
      "cell_type": "markdown",
      "source": [
        "#**Classification homework**"
      ],
      "metadata": {
        "id": "R5PwuYu7lGuZ"
      },
      "id": "R5PwuYu7lGuZ"
    },
    {
      "cell_type": "code",
      "execution_count": null,
      "id": "bc9a9af9-1d59-4a0f-b668-500d460bf722",
      "metadata": {
        "id": "bc9a9af9-1d59-4a0f-b668-500d460bf722"
      },
      "outputs": [],
      "source": [
        "import numpy as np\n",
        "import pandas as pd"
      ]
    },
    {
      "cell_type": "code",
      "execution_count": null,
      "id": "7e29069b-db75-4045-89fb-75e8b7745b3e",
      "metadata": {
        "id": "7e29069b-db75-4045-89fb-75e8b7745b3e"
      },
      "outputs": [],
      "source": [
        "url = \"https://raw.githubusercontent.com/alexeygrigorev/datasets/master/course_lead_scoring.csv\"\n",
        "df = pd.read_csv(url)\n",
        "df = df[['engine_displacement', 'horsepower', 'vehicle_weight', 'model_year', 'fuel_efficiency_mpg']]\n",
        "\n",
        "df.head(10)"
      ]
    },
    {
      "cell_type": "markdown",
      "source": [
        "###**Data preparation**\n",
        "* Check if the missing values are presented in the features.\n",
        "* If there are missing values:\n",
        "  * For caterogiral features, replace them with 'NA'\n",
        "  * For numerical features, replace with with 0.0"
      ],
      "metadata": {
        "id": "xbLM_FEzwmfo"
      },
      "id": "xbLM_FEzwmfo"
    },
    {
      "cell_type": "code",
      "source": [
        "# Data preparation"
      ],
      "metadata": {
        "id": "MAVVocqnxRpO"
      },
      "id": "MAVVocqnxRpO",
      "execution_count": null,
      "outputs": []
    },
    {
      "cell_type": "markdown",
      "source": [
        "###**<font color='red'>Question 1 </font>**\n",
        "What is the most frequent observation (mode) for the column `industry`?\n",
        "\n",
        "- NA\n",
        "- technology\n",
        "- healthcare\n",
        "- retail"
      ],
      "metadata": {
        "id": "gHADf1NdwMpn"
      },
      "id": "gHADf1NdwMpn"
    }
  ],
  "metadata": {
    "kernelspec": {
      "display_name": "Python 3 (ipykernel)",
      "language": "python",
      "name": "python3"
    },
    "language_info": {
      "codemirror_mode": {
        "name": "ipython",
        "version": 3
      },
      "file_extension": ".py",
      "mimetype": "text/x-python",
      "name": "python",
      "nbconvert_exporter": "python",
      "pygments_lexer": "ipython3",
      "version": "3.11.0"
    },
    "colab": {
      "provenance": []
    }
  },
  "nbformat": 4,
  "nbformat_minor": 5
}