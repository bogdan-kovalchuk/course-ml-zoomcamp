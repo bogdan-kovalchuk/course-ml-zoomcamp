{
  "cells": [
    {
      "cell_type": "markdown",
      "source": [
        "#**Classification homework**"
      ],
      "metadata": {
        "id": "R5PwuYu7lGuZ"
      },
      "id": "R5PwuYu7lGuZ"
    },
    {
      "cell_type": "code",
      "execution_count": null,
      "id": "bc9a9af9-1d59-4a0f-b668-500d460bf722",
      "metadata": {
        "id": "bc9a9af9-1d59-4a0f-b668-500d460bf722"
      },
      "outputs": [],
      "source": [
        "import numpy as np\n",
        "import pandas as pd"
      ]
    },
    {
      "cell_type": "code",
      "execution_count": null,
      "id": "7e29069b-db75-4045-89fb-75e8b7745b3e",
      "metadata": {
        "id": "7e29069b-db75-4045-89fb-75e8b7745b3e"
      },
      "outputs": [],
      "source": []
    }
  ],
  "metadata": {
    "kernelspec": {
      "display_name": "Python 3 (ipykernel)",
      "language": "python",
      "name": "python3"
    },
    "language_info": {
      "codemirror_mode": {
        "name": "ipython",
        "version": 3
      },
      "file_extension": ".py",
      "mimetype": "text/x-python",
      "name": "python",
      "nbconvert_exporter": "python",
      "pygments_lexer": "ipython3",
      "version": "3.11.0"
    },
    "colab": {
      "provenance": []
    }
  },
  "nbformat": 4,
  "nbformat_minor": 5
}